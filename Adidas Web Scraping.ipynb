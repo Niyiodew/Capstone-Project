{
 "cells": [
  {
   "cell_type": "markdown",
   "id": "1f8745e8",
   "metadata": {},
   "source": [
    "# Webscraping - Adidas\n",
    "https://www.adidas.com"
   ]
  },
  {
   "cell_type": "code",
   "execution_count": 1,
   "id": "88f10992",
   "metadata": {},
   "outputs": [
    {
     "name": "stdout",
     "output_type": "stream",
     "text": [
      "Requirement already satisfied: bs4 in c:\\users\\lenovo\\anaconda3\\new folder\\lib\\site-packages (0.0.1)\n",
      "Requirement already satisfied: beautifulsoup4 in c:\\users\\lenovo\\anaconda3\\new folder\\lib\\site-packages (from bs4) (4.12.2)\n",
      "Requirement already satisfied: soupsieve>1.2 in c:\\users\\lenovo\\anaconda3\\new folder\\lib\\site-packages (from beautifulsoup4->bs4) (2.4)\n",
      "Requirement already satisfied: requests in c:\\users\\lenovo\\anaconda3\\new folder\\lib\\site-packages (2.29.0)\n",
      "Requirement already satisfied: charset-normalizer<4,>=2 in c:\\users\\lenovo\\anaconda3\\new folder\\lib\\site-packages (from requests) (2.0.4)\n",
      "Requirement already satisfied: idna<4,>=2.5 in c:\\users\\lenovo\\anaconda3\\new folder\\lib\\site-packages (from requests) (3.4)\n",
      "Requirement already satisfied: urllib3<1.27,>=1.21.1 in c:\\users\\lenovo\\anaconda3\\new folder\\lib\\site-packages (from requests) (1.26.16)\n",
      "Requirement already satisfied: certifi>=2017.4.17 in c:\\users\\lenovo\\anaconda3\\new folder\\lib\\site-packages (from requests) (2023.5.7)\n"
     ]
    }
   ],
   "source": [
    "!pip install bs4\n",
    "!pip install requests"
   ]
  },
  {
   "cell_type": "markdown",
   "id": "6b9a4ae3",
   "metadata": {},
   "source": [
    "# Import the required libraries"
   ]
  },
  {
   "cell_type": "code",
   "execution_count": null,
   "id": "e03ce586",
   "metadata": {},
   "outputs": [],
   "source": [
    "#importing required libraries\n",
    "import requests\n",
    "from bs4 import BeautifulSoup\n",
    "import pandas as pd"
   ]
  },
  {
   "cell_type": "markdown",
   "id": "2b674872",
   "metadata": {},
   "source": [
    "# Send request to the website server "
   ]
  },
  {
   "cell_type": "code",
   "execution_count": null,
   "id": "504339dd",
   "metadata": {},
   "outputs": [],
   "source": [
    "page = requests.get('https://www.adidas.co.uk/search?q=shoes')\n",
    "page"
   ]
  },
  {
   "cell_type": "markdown",
   "id": "49f9e4b7",
   "metadata": {},
   "source": [
    "# Page contents"
   ]
  },
  {
   "cell_type": "code",
   "execution_count": null,
   "id": "73336374",
   "metadata": {},
   "outputs": [],
   "source": [
    "soup = BeautifulSoup(page.content)\n",
    "soup"
   ]
  },
  {
   "cell_type": "code",
   "execution_count": 13,
   "id": "b39c18c6",
   "metadata": {},
   "outputs": [
    {
     "data": {
      "text/plain": [
       "<h3 class=\"w-full mobile:text-sm mobile:pr-0 font-bold text-base pr-5 line-clamp-2\">PUMA x LAMELO BALL MB.03 Toxic Men's Basketball Shoes<span class=\"sr-only\">Purple Glimmer-Green Gecko</span></h3>"
      ]
     },
     "execution_count": 13,
     "metadata": {},
     "output_type": "execute_result"
    }
   ],
   "source": [
    "#Scrapping the shoe\n",
    "name = soup.find('h3', class_=\"w-full mobile:text-sm mobile:pr-0 font-bold text-base pr-5 line-clamp-2\")\n",
    "name"
   ]
  },
  {
   "cell_type": "code",
   "execution_count": 14,
   "id": "16f43eea",
   "metadata": {},
   "outputs": [
    {
     "data": {
      "text/plain": [
       "\"PUMA x LAMELO BALL MB.03 Toxic Men's Basketball ShoesPurple Glimmer-Green Gecko\""
      ]
     },
     "execution_count": 14,
     "metadata": {},
     "output_type": "execute_result"
    }
   ],
   "source": [
    "name.text"
   ]
  },
  {
   "cell_type": "code",
   "execution_count": 16,
   "id": "9ce9e9ad",
   "metadata": {},
   "outputs": [
    {
     "data": {
      "text/plain": [
       "<div class=\"flex flex-col flex-none mobile:items-start items-end text-sm md:text-base mobile:mt-2\"><span class=\"whitespace-nowrap text-base font-bold override:opacity-100\" data-test-id=\"price\">$125.00</span></div>"
      ]
     },
     "execution_count": 16,
     "metadata": {},
     "output_type": "execute_result"
    }
   ],
   "source": [
    "#Scrapping the price\n",
    "price = soup.find('div', class_=\"flex flex-col flex-none mobile:items-start items-end text-sm md:text-base mobile:mt-2\")\n",
    "price"
   ]
  },
  {
   "cell_type": "code",
   "execution_count": 17,
   "id": "ae1ab923",
   "metadata": {},
   "outputs": [
    {
     "data": {
      "text/plain": [
       "'$125.00'"
      ]
     },
     "execution_count": 17,
     "metadata": {},
     "output_type": "execute_result"
    }
   ],
   "source": [
    "price.text"
   ]
  },
  {
   "cell_type": "code",
   "execution_count": 33,
   "id": "1f588f76",
   "metadata": {},
   "outputs": [
    {
     "data": {
      "text/plain": [
       "<span class=\"group-hover:hidden group-focus-within:hidden text-puma-black-300 uppercase text-xs whitespace-nowrap\">4<!-- --> <!-- -->Colors</span>"
      ]
     },
     "execution_count": 33,
     "metadata": {},
     "output_type": "execute_result"
    }
   ],
   "source": [
    "#Scrapping the number of available color\n",
    "color = soup.find('span', class_=\"group-hover:hidden group-focus-within:hidden text-puma-black-300 uppercase text-xs whitespace-nowrap\")\n",
    "color"
   ]
  },
  {
   "cell_type": "code",
   "execution_count": 34,
   "id": "4bd3d8ab",
   "metadata": {},
   "outputs": [
    {
     "data": {
      "text/plain": [
       "'4 Colors'"
      ]
     },
     "execution_count": 34,
     "metadata": {},
     "output_type": "execute_result"
    }
   ],
   "source": [
    "color.text"
   ]
  },
  {
   "cell_type": "code",
   "execution_count": 24,
   "id": "e9898703",
   "metadata": {},
   "outputs": [
    {
     "data": {
      "text/plain": [
       "1"
      ]
     },
     "execution_count": 24,
     "metadata": {},
     "output_type": "execute_result"
    }
   ],
   "source": [
    "#retain only the numeric value and make it an integer\n",
    "no_of_color = int(''.join(filter(str.isdigit, color.text)))\n",
    "no_of_color"
   ]
  },
  {
   "cell_type": "code",
   "execution_count": 25,
   "id": "6ca2bda1",
   "metadata": {},
   "outputs": [
    {
     "data": {
      "text/plain": [
       "<span class=\"ml-1 pl-px text-sm\">(<!-- -->2<!-- -->)<span class=\"sr-only\">Reviews</span></span>"
      ]
     },
     "execution_count": 25,
     "metadata": {},
     "output_type": "execute_result"
    }
   ],
   "source": [
    "#Scrapping the review\n",
    "review = soup.find('span', class_=\"ml-1 pl-px text-sm\")\n",
    "review"
   ]
  },
  {
   "cell_type": "code",
   "execution_count": 26,
   "id": "ec254a58",
   "metadata": {},
   "outputs": [
    {
     "data": {
      "text/plain": [
       "'(2)Reviews'"
      ]
     },
     "execution_count": 26,
     "metadata": {},
     "output_type": "execute_result"
    }
   ],
   "source": [
    "review.text"
   ]
  },
  {
   "cell_type": "code",
   "execution_count": null,
   "id": "4eaf1bab",
   "metadata": {},
   "outputs": [],
   "source": []
  },
  {
   "cell_type": "markdown",
   "id": "6e1711e0",
   "metadata": {},
   "source": [
    "# Scraping multiple 'names', 'price', 'no of color' and 'category'"
   ]
  },
  {
   "cell_type": "code",
   "execution_count": 39,
   "id": "43b7d276",
   "metadata": {},
   "outputs": [
    {
     "data": {
      "text/plain": [
       "[\"PUMA x LAMELO BALL MB.03 Toxic Men's Basketball ShoesPurple Glimmer-Green Gecko\",\n",
       " \"Viz Runner Repeat Men's Running SneakersPuma Black-Puma White\",\n",
       " \"Smash 3.0 Men's SneakersGray Tile-PUMA Black-PUMA White\",\n",
       " \"Trinity Women's SneakersPUMA White-PUMA Black-Cool Light Gray\",\n",
       " \"PUMA x LAMELO BALL MB.03 LaFrancé Men's Basketball ShoesFluro Green Pes-PUMA Green-Fluro Yellow Pes\",\n",
       " \"Carina 2.0 Women's SneakersPuma White-Puma White-Puma Team Gold-Puma Black\",\n",
       " \"Star Vital Women's Training ShoesPUMA Black-PUMA Silver\",\n",
       " \"Carina Street Women's SneakersPUMA White-PUMA White-PUMA Gold\",\n",
       " \"Pacer Future Men's SneakersPuma Black-Puma Black\",\n",
       " \"SCUDERIA FERRARI x JOSHUA VIDES Speedcat Pro Men's Driving ShoesPUMA White-Rosso Corsa\",\n",
       " \"ST Runner v3 L Men's SneakersPuma White-Puma White-Gum\",\n",
       " \"Star Vital Refresh Men's Running ShoesPUMA Black-PUMA White\",\n",
       " \"PUMA x Formula 1® Las Vegas Grand Prix Speedcat Pro Men's Driving ShoesPUMA Black-PUMA Silver-Pop Red\",\n",
       " \"ST Runner v3 L Men's SneakersPuma Black-Puma Black\",\n",
       " \"Scuderia Ferrari Speedcat Pro Carlos Sainz PUMA 75th Year Anniversary Celebration Men's Driving ShoesRosso Corsa-PUMA Black\",\n",
       " 'Serve Pro Lite SneakersPUMA White-Dark Jasper-PUMA Gold',\n",
       " \"Mercedes-AMG PETRONAS Speedcat Pro George Russell PUMA 75th Year Anniversary Celebration Men's Driving ShoesPUMA Black-PUMA White\",\n",
       " \"FENTY x PUMA AVANTI L Women's SneakersDark Myrtle\",\n",
       " \"FERRARI IONF Miami Men's Motorsport ShoesPUMA White\",\n",
       " \"PUMA x LAMELO BALL MB.03 Chino Hills Men's Basketball ShoesFeather Gray-Lime Smash\",\n",
       " \"Viz Runner Repeat Wide Men's Running ShoesMyrtle-PUMA Black\",\n",
       " \"Star Vital Refresh Men's Running ShoesPUMA Navy-Fizzy Lime\",\n",
       " \"RS-X Camo Dye Men's SneakersMyrtle-Fall Foliage\",\n",
       " \"Soft ride Flair Women's Running ShoesPUMA Black-PUMA Gold\"]"
      ]
     },
     "execution_count": 39,
     "metadata": {},
     "output_type": "execute_result"
    }
   ],
   "source": [
    "#scraping multiple names\n",
    "name = []\n",
    "\n",
    "for i in soup.find_all('h3', class_=\"w-full mobile:text-sm mobile:pr-0 font-bold text-base pr-5 line-clamp-2\"):\n",
    "    name.append(i.text)\n",
    "\n",
    "name"
   ]
  },
  {
   "cell_type": "code",
   "execution_count": 38,
   "id": "47356279",
   "metadata": {},
   "outputs": [
    {
     "data": {
      "text/plain": [
       "['$125.00',\n",
       " '$37.99$65.00',\n",
       " '$30.99$60.00',\n",
       " '$49.99$90.00',\n",
       " '$125.00',\n",
       " '$34.99$70.00',\n",
       " '$39.99$65.00',\n",
       " '$34.99$75.00',\n",
       " '$39.99$70.00',\n",
       " '$450.00',\n",
       " '$34.99$60.00',\n",
       " '$34.99$70.00',\n",
       " '$450.00',\n",
       " '$34.99$60.00',\n",
       " '$450.00',\n",
       " '$32.99$65.00',\n",
       " '$450.00',\n",
       " '$160.00',\n",
       " '$337.99$450.00',\n",
       " '$125.00',\n",
       " '$39.99$65.00',\n",
       " '$34.99$70.00',\n",
       " '$69.99$120.00',\n",
       " '$39.99$65.00']"
      ]
     },
     "execution_count": 38,
     "metadata": {},
     "output_type": "execute_result"
    }
   ],
   "source": [
    "#scraping multiple prices\n",
    "price = []\n",
    "\n",
    "for i in soup.find_all('div', class_=\"flex flex-col flex-none mobile:items-start items-end text-sm md:text-base mobile:mt-2\"):\n",
    "    price.append(i.text)\n",
    "\n",
    "price"
   ]
  },
  {
   "cell_type": "code",
   "execution_count": 35,
   "id": "5b512bea",
   "metadata": {},
   "outputs": [
    {
     "data": {
      "text/plain": [
       "['4 Colors',\n",
       " '3 Colors',\n",
       " '2 Colors',\n",
       " '2 Colors',\n",
       " '3 Colors',\n",
       " '5 Colors',\n",
       " '2 Colors',\n",
       " '5 Colors',\n",
       " '2 Colors',\n",
       " '2 Colors',\n",
       " '4 Colors',\n",
       " '2 Colors',\n",
       " '2 Colors']"
      ]
     },
     "execution_count": 35,
     "metadata": {},
     "output_type": "execute_result"
    }
   ],
   "source": [
    "#scraping multiple number of available color\n",
    "no_of_colors = []\n",
    "\n",
    "for i in soup.find_all('span', class_=\"group-hover:hidden group-focus-within:hidden text-puma-black-300 uppercase text-xs whitespace-nowrap\"):\n",
    "    no_of_colors.append(i.text)\n",
    "\n",
    "no_of_colors"
   ]
  },
  {
   "cell_type": "code",
   "execution_count": 37,
   "id": "4abc31e9",
   "metadata": {},
   "outputs": [
    {
     "data": {
      "text/plain": [
       "['(2)Reviews',\n",
       " '(37)Reviews',\n",
       " '(48)Reviews',\n",
       " '(73)Reviews',\n",
       " '(5)Reviews',\n",
       " '(42)Reviews',\n",
       " '(89)Reviews',\n",
       " '(131)Reviews',\n",
       " '(1)Reviews',\n",
       " '(131)Reviews',\n",
       " '(13)Reviews',\n",
       " '(2)Reviews',\n",
       " '(1)Reviews',\n",
       " '(3)Reviews']"
      ]
     },
     "execution_count": 37,
     "metadata": {},
     "output_type": "execute_result"
    }
   ],
   "source": [
    "#scraping multiple category\n",
    "review = []\n",
    "\n",
    "for i in soup.find_all('span', class_=\"ml-1 pl-px text-sm\"):\n",
    "    review.append(i.text)\n",
    "                  \n",
    "review"
   ]
  },
  {
   "cell_type": "code",
   "execution_count": null,
   "id": "aab024aa",
   "metadata": {},
   "outputs": [],
   "source": []
  },
  {
   "cell_type": "code",
   "execution_count": 42,
   "id": "4466512f",
   "metadata": {},
   "outputs": [
    {
     "name": "stdout",
     "output_type": "stream",
     "text": [
      "24 24 13 14\n"
     ]
    }
   ],
   "source": [
    "#Finding the length\n",
    "print(len(name),len(price),len(no_of_colors),len(review))"
   ]
  },
  {
   "cell_type": "code",
   "execution_count": 48,
   "id": "9c2c618e",
   "metadata": {},
   "outputs": [],
   "source": [
    "import numpy as np\n",
    "import pandas as pd"
   ]
  },
  {
   "cell_type": "code",
   "execution_count": 53,
   "id": "e88a609c",
   "metadata": {},
   "outputs": [],
   "source": [
    "# Pad shorter arrays with a placeholder (np.nan)\n",
    "\n",
    "# Find the maximum length among the arrays\n",
    "max_length = max(len(name),len(price),len(no_of_colors),len(review))\n",
    "                 \n",
    "no_of_colors += [np.nan] * (max_length - len(no_of_colors))\n",
    "review += [np.nan] * (max_length - len(review))"
   ]
  },
  {
   "cell_type": "code",
   "execution_count": 54,
   "id": "c9445b3a",
   "metadata": {},
   "outputs": [
    {
     "name": "stdout",
     "output_type": "stream",
     "text": [
      "                                                 Name           Price  \\\n",
      "0   PUMA x LAMELO BALL MB.03 Toxic Men's Basketbal...         $125.00   \n",
      "1   Viz Runner Repeat Men's Running SneakersPuma B...    $37.99$65.00   \n",
      "2   Smash 3.0 Men's SneakersGray Tile-PUMA Black-P...    $30.99$60.00   \n",
      "3   Trinity Women's SneakersPUMA White-PUMA Black-...    $49.99$90.00   \n",
      "4   PUMA x LAMELO BALL MB.03 LaFrancé Men's Basket...         $125.00   \n",
      "5   Carina 2.0 Women's SneakersPuma White-Puma Whi...    $34.99$70.00   \n",
      "6   Star Vital Women's Training ShoesPUMA Black-PU...    $39.99$65.00   \n",
      "7   Carina Street Women's SneakersPUMA White-PUMA ...    $34.99$75.00   \n",
      "8    Pacer Future Men's SneakersPuma Black-Puma Black    $39.99$70.00   \n",
      "9   SCUDERIA FERRARI x JOSHUA VIDES Speedcat Pro M...         $450.00   \n",
      "10  ST Runner v3 L Men's SneakersPuma White-Puma W...    $34.99$60.00   \n",
      "11  Star Vital Refresh Men's Running ShoesPUMA Bla...    $34.99$70.00   \n",
      "12  PUMA x Formula 1® Las Vegas Grand Prix Speedca...         $450.00   \n",
      "13  ST Runner v3 L Men's SneakersPuma Black-Puma B...    $34.99$60.00   \n",
      "14  Scuderia Ferrari Speedcat Pro Carlos Sainz PUM...         $450.00   \n",
      "15  Serve Pro Lite SneakersPUMA White-Dark Jasper-...    $32.99$65.00   \n",
      "16  Mercedes-AMG PETRONAS Speedcat Pro George Russ...         $450.00   \n",
      "17  FENTY x PUMA AVANTI L Women's SneakersDark Myrtle         $160.00   \n",
      "18  FERRARI IONF Miami Men's Motorsport ShoesPUMA ...  $337.99$450.00   \n",
      "19  PUMA x LAMELO BALL MB.03 Chino Hills Men's Bas...         $125.00   \n",
      "20  Viz Runner Repeat Wide Men's Running ShoesMyrt...    $39.99$65.00   \n",
      "21  Star Vital Refresh Men's Running ShoesPUMA Nav...    $34.99$70.00   \n",
      "22    RS-X Camo Dye Men's SneakersMyrtle-Fall Foliage   $69.99$120.00   \n",
      "23  Soft ride Flair Women's Running ShoesPUMA Blac...    $39.99$65.00   \n",
      "\n",
      "   No of Color        Review  \n",
      "0     4 Colors    (2)Reviews  \n",
      "1     3 Colors   (37)Reviews  \n",
      "2     2 Colors   (48)Reviews  \n",
      "3     2 Colors   (73)Reviews  \n",
      "4     3 Colors    (5)Reviews  \n",
      "5     5 Colors   (42)Reviews  \n",
      "6     2 Colors   (89)Reviews  \n",
      "7     5 Colors  (131)Reviews  \n",
      "8     2 Colors    (1)Reviews  \n",
      "9     2 Colors  (131)Reviews  \n",
      "10    4 Colors   (13)Reviews  \n",
      "11    2 Colors    (2)Reviews  \n",
      "12    2 Colors    (1)Reviews  \n",
      "13         NaN    (3)Reviews  \n",
      "14         NaN           NaN  \n",
      "15         NaN           NaN  \n",
      "16         NaN           NaN  \n",
      "17         NaN           NaN  \n",
      "18         NaN           NaN  \n",
      "19         NaN           NaN  \n",
      "20         NaN           NaN  \n",
      "21         NaN           NaN  \n",
      "22         NaN           NaN  \n",
      "23         NaN           NaN  \n"
     ]
    }
   ],
   "source": [
    "# Create a DataFrame\n",
    "df = pd.DataFrame({\n",
    "    'Name': name,\n",
    "    'Price': price,\n",
    "    'No of Color': no_of_colors,\n",
    "    'Review': review\n",
    "})\n",
    "\n",
    "# Display the DataFrame\n",
    "print(df)"
   ]
  },
  {
   "cell_type": "code",
   "execution_count": 55,
   "id": "b141fdaf",
   "metadata": {},
   "outputs": [],
   "source": [
    "# To extract numeric part of Color column and convert to int\n",
    "def extract_numeric(s):\n",
    "    return int(''.join(filter(str.isdigit, s)))"
   ]
  },
  {
   "cell_type": "code",
   "execution_count": 60,
   "id": "83a9d1f2",
   "metadata": {},
   "outputs": [
    {
     "data": {
      "text/html": [
       "<div>\n",
       "<style scoped>\n",
       "    .dataframe tbody tr th:only-of-type {\n",
       "        vertical-align: middle;\n",
       "    }\n",
       "\n",
       "    .dataframe tbody tr th {\n",
       "        vertical-align: top;\n",
       "    }\n",
       "\n",
       "    .dataframe thead th {\n",
       "        text-align: right;\n",
       "    }\n",
       "</style>\n",
       "<table border=\"1\" class=\"dataframe\">\n",
       "  <thead>\n",
       "    <tr style=\"text-align: right;\">\n",
       "      <th></th>\n",
       "      <th>Name</th>\n",
       "      <th>Price</th>\n",
       "      <th>No of Color</th>\n",
       "      <th>Review</th>\n",
       "    </tr>\n",
       "  </thead>\n",
       "  <tbody>\n",
       "    <tr>\n",
       "      <th>0</th>\n",
       "      <td>PUMA x LAMELO BALL MB.03 Toxic Men's Basketbal...</td>\n",
       "      <td>$125.00</td>\n",
       "      <td>4 Colors</td>\n",
       "      <td>(2)Reviews</td>\n",
       "    </tr>\n",
       "    <tr>\n",
       "      <th>1</th>\n",
       "      <td>Viz Runner Repeat Men's Running SneakersPuma B...</td>\n",
       "      <td>$37.99$65.00</td>\n",
       "      <td>3 Colors</td>\n",
       "      <td>(37)Reviews</td>\n",
       "    </tr>\n",
       "    <tr>\n",
       "      <th>2</th>\n",
       "      <td>Smash 3.0 Men's SneakersGray Tile-PUMA Black-P...</td>\n",
       "      <td>$30.99$60.00</td>\n",
       "      <td>2 Colors</td>\n",
       "      <td>(48)Reviews</td>\n",
       "    </tr>\n",
       "    <tr>\n",
       "      <th>3</th>\n",
       "      <td>Trinity Women's SneakersPUMA White-PUMA Black-...</td>\n",
       "      <td>$49.99$90.00</td>\n",
       "      <td>2 Colors</td>\n",
       "      <td>(73)Reviews</td>\n",
       "    </tr>\n",
       "    <tr>\n",
       "      <th>4</th>\n",
       "      <td>PUMA x LAMELO BALL MB.03 LaFrancé Men's Basket...</td>\n",
       "      <td>$125.00</td>\n",
       "      <td>3 Colors</td>\n",
       "      <td>(5)Reviews</td>\n",
       "    </tr>\n",
       "    <tr>\n",
       "      <th>5</th>\n",
       "      <td>Carina 2.0 Women's SneakersPuma White-Puma Whi...</td>\n",
       "      <td>$34.99$70.00</td>\n",
       "      <td>5 Colors</td>\n",
       "      <td>(42)Reviews</td>\n",
       "    </tr>\n",
       "    <tr>\n",
       "      <th>6</th>\n",
       "      <td>Star Vital Women's Training ShoesPUMA Black-PU...</td>\n",
       "      <td>$39.99$65.00</td>\n",
       "      <td>2 Colors</td>\n",
       "      <td>(89)Reviews</td>\n",
       "    </tr>\n",
       "    <tr>\n",
       "      <th>7</th>\n",
       "      <td>Carina Street Women's SneakersPUMA White-PUMA ...</td>\n",
       "      <td>$34.99$75.00</td>\n",
       "      <td>5 Colors</td>\n",
       "      <td>(131)Reviews</td>\n",
       "    </tr>\n",
       "    <tr>\n",
       "      <th>8</th>\n",
       "      <td>Pacer Future Men's SneakersPuma Black-Puma Black</td>\n",
       "      <td>$39.99$70.00</td>\n",
       "      <td>2 Colors</td>\n",
       "      <td>(1)Reviews</td>\n",
       "    </tr>\n",
       "    <tr>\n",
       "      <th>9</th>\n",
       "      <td>SCUDERIA FERRARI x JOSHUA VIDES Speedcat Pro M...</td>\n",
       "      <td>$450.00</td>\n",
       "      <td>2 Colors</td>\n",
       "      <td>(131)Reviews</td>\n",
       "    </tr>\n",
       "    <tr>\n",
       "      <th>10</th>\n",
       "      <td>ST Runner v3 L Men's SneakersPuma White-Puma W...</td>\n",
       "      <td>$34.99$60.00</td>\n",
       "      <td>4 Colors</td>\n",
       "      <td>(13)Reviews</td>\n",
       "    </tr>\n",
       "    <tr>\n",
       "      <th>11</th>\n",
       "      <td>Star Vital Refresh Men's Running ShoesPUMA Bla...</td>\n",
       "      <td>$34.99$70.00</td>\n",
       "      <td>2 Colors</td>\n",
       "      <td>(2)Reviews</td>\n",
       "    </tr>\n",
       "    <tr>\n",
       "      <th>12</th>\n",
       "      <td>PUMA x Formula 1® Las Vegas Grand Prix Speedca...</td>\n",
       "      <td>$450.00</td>\n",
       "      <td>2 Colors</td>\n",
       "      <td>(1)Reviews</td>\n",
       "    </tr>\n",
       "    <tr>\n",
       "      <th>13</th>\n",
       "      <td>ST Runner v3 L Men's SneakersPuma Black-Puma B...</td>\n",
       "      <td>$34.99$60.00</td>\n",
       "      <td>NaN</td>\n",
       "      <td>(3)Reviews</td>\n",
       "    </tr>\n",
       "    <tr>\n",
       "      <th>14</th>\n",
       "      <td>Scuderia Ferrari Speedcat Pro Carlos Sainz PUM...</td>\n",
       "      <td>$450.00</td>\n",
       "      <td>NaN</td>\n",
       "      <td>NaN</td>\n",
       "    </tr>\n",
       "    <tr>\n",
       "      <th>15</th>\n",
       "      <td>Serve Pro Lite SneakersPUMA White-Dark Jasper-...</td>\n",
       "      <td>$32.99$65.00</td>\n",
       "      <td>NaN</td>\n",
       "      <td>NaN</td>\n",
       "    </tr>\n",
       "    <tr>\n",
       "      <th>16</th>\n",
       "      <td>Mercedes-AMG PETRONAS Speedcat Pro George Russ...</td>\n",
       "      <td>$450.00</td>\n",
       "      <td>NaN</td>\n",
       "      <td>NaN</td>\n",
       "    </tr>\n",
       "    <tr>\n",
       "      <th>17</th>\n",
       "      <td>FENTY x PUMA AVANTI L Women's SneakersDark Myrtle</td>\n",
       "      <td>$160.00</td>\n",
       "      <td>NaN</td>\n",
       "      <td>NaN</td>\n",
       "    </tr>\n",
       "    <tr>\n",
       "      <th>18</th>\n",
       "      <td>FERRARI IONF Miami Men's Motorsport ShoesPUMA ...</td>\n",
       "      <td>$337.99$450.00</td>\n",
       "      <td>NaN</td>\n",
       "      <td>NaN</td>\n",
       "    </tr>\n",
       "    <tr>\n",
       "      <th>19</th>\n",
       "      <td>PUMA x LAMELO BALL MB.03 Chino Hills Men's Bas...</td>\n",
       "      <td>$125.00</td>\n",
       "      <td>NaN</td>\n",
       "      <td>NaN</td>\n",
       "    </tr>\n",
       "    <tr>\n",
       "      <th>20</th>\n",
       "      <td>Viz Runner Repeat Wide Men's Running ShoesMyrt...</td>\n",
       "      <td>$39.99$65.00</td>\n",
       "      <td>NaN</td>\n",
       "      <td>NaN</td>\n",
       "    </tr>\n",
       "    <tr>\n",
       "      <th>21</th>\n",
       "      <td>Star Vital Refresh Men's Running ShoesPUMA Nav...</td>\n",
       "      <td>$34.99$70.00</td>\n",
       "      <td>NaN</td>\n",
       "      <td>NaN</td>\n",
       "    </tr>\n",
       "    <tr>\n",
       "      <th>22</th>\n",
       "      <td>RS-X Camo Dye Men's SneakersMyrtle-Fall Foliage</td>\n",
       "      <td>$69.99$120.00</td>\n",
       "      <td>NaN</td>\n",
       "      <td>NaN</td>\n",
       "    </tr>\n",
       "    <tr>\n",
       "      <th>23</th>\n",
       "      <td>Soft ride Flair Women's Running ShoesPUMA Blac...</td>\n",
       "      <td>$39.99$65.00</td>\n",
       "      <td>NaN</td>\n",
       "      <td>NaN</td>\n",
       "    </tr>\n",
       "  </tbody>\n",
       "</table>\n",
       "</div>"
      ],
      "text/plain": [
       "                                                 Name           Price  \\\n",
       "0   PUMA x LAMELO BALL MB.03 Toxic Men's Basketbal...         $125.00   \n",
       "1   Viz Runner Repeat Men's Running SneakersPuma B...    $37.99$65.00   \n",
       "2   Smash 3.0 Men's SneakersGray Tile-PUMA Black-P...    $30.99$60.00   \n",
       "3   Trinity Women's SneakersPUMA White-PUMA Black-...    $49.99$90.00   \n",
       "4   PUMA x LAMELO BALL MB.03 LaFrancé Men's Basket...         $125.00   \n",
       "5   Carina 2.0 Women's SneakersPuma White-Puma Whi...    $34.99$70.00   \n",
       "6   Star Vital Women's Training ShoesPUMA Black-PU...    $39.99$65.00   \n",
       "7   Carina Street Women's SneakersPUMA White-PUMA ...    $34.99$75.00   \n",
       "8    Pacer Future Men's SneakersPuma Black-Puma Black    $39.99$70.00   \n",
       "9   SCUDERIA FERRARI x JOSHUA VIDES Speedcat Pro M...         $450.00   \n",
       "10  ST Runner v3 L Men's SneakersPuma White-Puma W...    $34.99$60.00   \n",
       "11  Star Vital Refresh Men's Running ShoesPUMA Bla...    $34.99$70.00   \n",
       "12  PUMA x Formula 1® Las Vegas Grand Prix Speedca...         $450.00   \n",
       "13  ST Runner v3 L Men's SneakersPuma Black-Puma B...    $34.99$60.00   \n",
       "14  Scuderia Ferrari Speedcat Pro Carlos Sainz PUM...         $450.00   \n",
       "15  Serve Pro Lite SneakersPUMA White-Dark Jasper-...    $32.99$65.00   \n",
       "16  Mercedes-AMG PETRONAS Speedcat Pro George Russ...         $450.00   \n",
       "17  FENTY x PUMA AVANTI L Women's SneakersDark Myrtle         $160.00   \n",
       "18  FERRARI IONF Miami Men's Motorsport ShoesPUMA ...  $337.99$450.00   \n",
       "19  PUMA x LAMELO BALL MB.03 Chino Hills Men's Bas...         $125.00   \n",
       "20  Viz Runner Repeat Wide Men's Running ShoesMyrt...    $39.99$65.00   \n",
       "21  Star Vital Refresh Men's Running ShoesPUMA Nav...    $34.99$70.00   \n",
       "22    RS-X Camo Dye Men's SneakersMyrtle-Fall Foliage   $69.99$120.00   \n",
       "23  Soft ride Flair Women's Running ShoesPUMA Blac...    $39.99$65.00   \n",
       "\n",
       "   No of Color        Review  \n",
       "0     4 Colors    (2)Reviews  \n",
       "1     3 Colors   (37)Reviews  \n",
       "2     2 Colors   (48)Reviews  \n",
       "3     2 Colors   (73)Reviews  \n",
       "4     3 Colors    (5)Reviews  \n",
       "5     5 Colors   (42)Reviews  \n",
       "6     2 Colors   (89)Reviews  \n",
       "7     5 Colors  (131)Reviews  \n",
       "8     2 Colors    (1)Reviews  \n",
       "9     2 Colors  (131)Reviews  \n",
       "10    4 Colors   (13)Reviews  \n",
       "11    2 Colors    (2)Reviews  \n",
       "12    2 Colors    (1)Reviews  \n",
       "13         NaN    (3)Reviews  \n",
       "14         NaN           NaN  \n",
       "15         NaN           NaN  \n",
       "16         NaN           NaN  \n",
       "17         NaN           NaN  \n",
       "18         NaN           NaN  \n",
       "19         NaN           NaN  \n",
       "20         NaN           NaN  \n",
       "21         NaN           NaN  \n",
       "22         NaN           NaN  \n",
       "23         NaN           NaN  "
      ]
     },
     "execution_count": 60,
     "metadata": {},
     "output_type": "execute_result"
    }
   ],
   "source": [
    "df"
   ]
  },
  {
   "cell_type": "code",
   "execution_count": 62,
   "id": "c27ebb5a",
   "metadata": {},
   "outputs": [
    {
     "data": {
      "text/html": [
       "<div>\n",
       "<style scoped>\n",
       "    .dataframe tbody tr th:only-of-type {\n",
       "        vertical-align: middle;\n",
       "    }\n",
       "\n",
       "    .dataframe tbody tr th {\n",
       "        vertical-align: top;\n",
       "    }\n",
       "\n",
       "    .dataframe thead th {\n",
       "        text-align: right;\n",
       "    }\n",
       "</style>\n",
       "<table border=\"1\" class=\"dataframe\">\n",
       "  <thead>\n",
       "    <tr style=\"text-align: right;\">\n",
       "      <th></th>\n",
       "      <th>Name</th>\n",
       "      <th>Price</th>\n",
       "      <th>No of Color</th>\n",
       "      <th>Review</th>\n",
       "    </tr>\n",
       "  </thead>\n",
       "  <tbody>\n",
       "    <tr>\n",
       "      <th>0</th>\n",
       "      <td>PUMA x LAMELO BALL MB.03 Toxic Men's Basketbal...</td>\n",
       "      <td>$125.00</td>\n",
       "      <td>4 Colors</td>\n",
       "      <td>(2)Reviews</td>\n",
       "    </tr>\n",
       "    <tr>\n",
       "      <th>1</th>\n",
       "      <td>Viz Runner Repeat Men's Running SneakersPuma B...</td>\n",
       "      <td>$37.99$65.00</td>\n",
       "      <td>3 Colors</td>\n",
       "      <td>(37)Reviews</td>\n",
       "    </tr>\n",
       "    <tr>\n",
       "      <th>2</th>\n",
       "      <td>Smash 3.0 Men's SneakersGray Tile-PUMA Black-P...</td>\n",
       "      <td>$30.99$60.00</td>\n",
       "      <td>2 Colors</td>\n",
       "      <td>(48)Reviews</td>\n",
       "    </tr>\n",
       "    <tr>\n",
       "      <th>3</th>\n",
       "      <td>Trinity Women's SneakersPUMA White-PUMA Black-...</td>\n",
       "      <td>$49.99$90.00</td>\n",
       "      <td>2 Colors</td>\n",
       "      <td>(73)Reviews</td>\n",
       "    </tr>\n",
       "    <tr>\n",
       "      <th>4</th>\n",
       "      <td>PUMA x LAMELO BALL MB.03 LaFrancé Men's Basket...</td>\n",
       "      <td>$125.00</td>\n",
       "      <td>3 Colors</td>\n",
       "      <td>(5)Reviews</td>\n",
       "    </tr>\n",
       "    <tr>\n",
       "      <th>5</th>\n",
       "      <td>Carina 2.0 Women's SneakersPuma White-Puma Whi...</td>\n",
       "      <td>$34.99$70.00</td>\n",
       "      <td>5 Colors</td>\n",
       "      <td>(42)Reviews</td>\n",
       "    </tr>\n",
       "    <tr>\n",
       "      <th>6</th>\n",
       "      <td>Star Vital Women's Training ShoesPUMA Black-PU...</td>\n",
       "      <td>$39.99$65.00</td>\n",
       "      <td>2 Colors</td>\n",
       "      <td>(89)Reviews</td>\n",
       "    </tr>\n",
       "    <tr>\n",
       "      <th>7</th>\n",
       "      <td>Carina Street Women's SneakersPUMA White-PUMA ...</td>\n",
       "      <td>$34.99$75.00</td>\n",
       "      <td>5 Colors</td>\n",
       "      <td>(131)Reviews</td>\n",
       "    </tr>\n",
       "    <tr>\n",
       "      <th>8</th>\n",
       "      <td>Pacer Future Men's SneakersPuma Black-Puma Black</td>\n",
       "      <td>$39.99$70.00</td>\n",
       "      <td>2 Colors</td>\n",
       "      <td>(1)Reviews</td>\n",
       "    </tr>\n",
       "    <tr>\n",
       "      <th>9</th>\n",
       "      <td>SCUDERIA FERRARI x JOSHUA VIDES Speedcat Pro M...</td>\n",
       "      <td>$450.00</td>\n",
       "      <td>2 Colors</td>\n",
       "      <td>(131)Reviews</td>\n",
       "    </tr>\n",
       "    <tr>\n",
       "      <th>10</th>\n",
       "      <td>ST Runner v3 L Men's SneakersPuma White-Puma W...</td>\n",
       "      <td>$34.99$60.00</td>\n",
       "      <td>4 Colors</td>\n",
       "      <td>(13)Reviews</td>\n",
       "    </tr>\n",
       "    <tr>\n",
       "      <th>11</th>\n",
       "      <td>Star Vital Refresh Men's Running ShoesPUMA Bla...</td>\n",
       "      <td>$34.99$70.00</td>\n",
       "      <td>2 Colors</td>\n",
       "      <td>(2)Reviews</td>\n",
       "    </tr>\n",
       "    <tr>\n",
       "      <th>12</th>\n",
       "      <td>PUMA x Formula 1® Las Vegas Grand Prix Speedca...</td>\n",
       "      <td>$450.00</td>\n",
       "      <td>2 Colors</td>\n",
       "      <td>(1)Reviews</td>\n",
       "    </tr>\n",
       "    <tr>\n",
       "      <th>13</th>\n",
       "      <td>ST Runner v3 L Men's SneakersPuma Black-Puma B...</td>\n",
       "      <td>$34.99$60.00</td>\n",
       "      <td>NaN</td>\n",
       "      <td>(3)Reviews</td>\n",
       "    </tr>\n",
       "    <tr>\n",
       "      <th>14</th>\n",
       "      <td>Scuderia Ferrari Speedcat Pro Carlos Sainz PUM...</td>\n",
       "      <td>$450.00</td>\n",
       "      <td>NaN</td>\n",
       "      <td>NaN</td>\n",
       "    </tr>\n",
       "    <tr>\n",
       "      <th>15</th>\n",
       "      <td>Serve Pro Lite SneakersPUMA White-Dark Jasper-...</td>\n",
       "      <td>$32.99$65.00</td>\n",
       "      <td>NaN</td>\n",
       "      <td>NaN</td>\n",
       "    </tr>\n",
       "    <tr>\n",
       "      <th>16</th>\n",
       "      <td>Mercedes-AMG PETRONAS Speedcat Pro George Russ...</td>\n",
       "      <td>$450.00</td>\n",
       "      <td>NaN</td>\n",
       "      <td>NaN</td>\n",
       "    </tr>\n",
       "    <tr>\n",
       "      <th>17</th>\n",
       "      <td>FENTY x PUMA AVANTI L Women's SneakersDark Myrtle</td>\n",
       "      <td>$160.00</td>\n",
       "      <td>NaN</td>\n",
       "      <td>NaN</td>\n",
       "    </tr>\n",
       "    <tr>\n",
       "      <th>18</th>\n",
       "      <td>FERRARI IONF Miami Men's Motorsport ShoesPUMA ...</td>\n",
       "      <td>$337.99$450.00</td>\n",
       "      <td>NaN</td>\n",
       "      <td>NaN</td>\n",
       "    </tr>\n",
       "    <tr>\n",
       "      <th>19</th>\n",
       "      <td>PUMA x LAMELO BALL MB.03 Chino Hills Men's Bas...</td>\n",
       "      <td>$125.00</td>\n",
       "      <td>NaN</td>\n",
       "      <td>NaN</td>\n",
       "    </tr>\n",
       "    <tr>\n",
       "      <th>20</th>\n",
       "      <td>Viz Runner Repeat Wide Men's Running ShoesMyrt...</td>\n",
       "      <td>$39.99$65.00</td>\n",
       "      <td>NaN</td>\n",
       "      <td>NaN</td>\n",
       "    </tr>\n",
       "    <tr>\n",
       "      <th>21</th>\n",
       "      <td>Star Vital Refresh Men's Running ShoesPUMA Nav...</td>\n",
       "      <td>$34.99$70.00</td>\n",
       "      <td>NaN</td>\n",
       "      <td>NaN</td>\n",
       "    </tr>\n",
       "    <tr>\n",
       "      <th>22</th>\n",
       "      <td>RS-X Camo Dye Men's SneakersMyrtle-Fall Foliage</td>\n",
       "      <td>$69.99$120.00</td>\n",
       "      <td>NaN</td>\n",
       "      <td>NaN</td>\n",
       "    </tr>\n",
       "    <tr>\n",
       "      <th>23</th>\n",
       "      <td>Soft ride Flair Women's Running ShoesPUMA Blac...</td>\n",
       "      <td>$39.99$65.00</td>\n",
       "      <td>NaN</td>\n",
       "      <td>NaN</td>\n",
       "    </tr>\n",
       "  </tbody>\n",
       "</table>\n",
       "</div>"
      ],
      "text/plain": [
       "                                                 Name           Price  \\\n",
       "0   PUMA x LAMELO BALL MB.03 Toxic Men's Basketbal...         $125.00   \n",
       "1   Viz Runner Repeat Men's Running SneakersPuma B...    $37.99$65.00   \n",
       "2   Smash 3.0 Men's SneakersGray Tile-PUMA Black-P...    $30.99$60.00   \n",
       "3   Trinity Women's SneakersPUMA White-PUMA Black-...    $49.99$90.00   \n",
       "4   PUMA x LAMELO BALL MB.03 LaFrancé Men's Basket...         $125.00   \n",
       "5   Carina 2.0 Women's SneakersPuma White-Puma Whi...    $34.99$70.00   \n",
       "6   Star Vital Women's Training ShoesPUMA Black-PU...    $39.99$65.00   \n",
       "7   Carina Street Women's SneakersPUMA White-PUMA ...    $34.99$75.00   \n",
       "8    Pacer Future Men's SneakersPuma Black-Puma Black    $39.99$70.00   \n",
       "9   SCUDERIA FERRARI x JOSHUA VIDES Speedcat Pro M...         $450.00   \n",
       "10  ST Runner v3 L Men's SneakersPuma White-Puma W...    $34.99$60.00   \n",
       "11  Star Vital Refresh Men's Running ShoesPUMA Bla...    $34.99$70.00   \n",
       "12  PUMA x Formula 1® Las Vegas Grand Prix Speedca...         $450.00   \n",
       "13  ST Runner v3 L Men's SneakersPuma Black-Puma B...    $34.99$60.00   \n",
       "14  Scuderia Ferrari Speedcat Pro Carlos Sainz PUM...         $450.00   \n",
       "15  Serve Pro Lite SneakersPUMA White-Dark Jasper-...    $32.99$65.00   \n",
       "16  Mercedes-AMG PETRONAS Speedcat Pro George Russ...         $450.00   \n",
       "17  FENTY x PUMA AVANTI L Women's SneakersDark Myrtle         $160.00   \n",
       "18  FERRARI IONF Miami Men's Motorsport ShoesPUMA ...  $337.99$450.00   \n",
       "19  PUMA x LAMELO BALL MB.03 Chino Hills Men's Bas...         $125.00   \n",
       "20  Viz Runner Repeat Wide Men's Running ShoesMyrt...    $39.99$65.00   \n",
       "21  Star Vital Refresh Men's Running ShoesPUMA Nav...    $34.99$70.00   \n",
       "22    RS-X Camo Dye Men's SneakersMyrtle-Fall Foliage   $69.99$120.00   \n",
       "23  Soft ride Flair Women's Running ShoesPUMA Blac...    $39.99$65.00   \n",
       "\n",
       "   No of Color        Review  \n",
       "0     4 Colors    (2)Reviews  \n",
       "1     3 Colors   (37)Reviews  \n",
       "2     2 Colors   (48)Reviews  \n",
       "3     2 Colors   (73)Reviews  \n",
       "4     3 Colors    (5)Reviews  \n",
       "5     5 Colors   (42)Reviews  \n",
       "6     2 Colors   (89)Reviews  \n",
       "7     5 Colors  (131)Reviews  \n",
       "8     2 Colors    (1)Reviews  \n",
       "9     2 Colors  (131)Reviews  \n",
       "10    4 Colors   (13)Reviews  \n",
       "11    2 Colors    (2)Reviews  \n",
       "12    2 Colors    (1)Reviews  \n",
       "13         NaN    (3)Reviews  \n",
       "14         NaN           NaN  \n",
       "15         NaN           NaN  \n",
       "16         NaN           NaN  \n",
       "17         NaN           NaN  \n",
       "18         NaN           NaN  \n",
       "19         NaN           NaN  \n",
       "20         NaN           NaN  \n",
       "21         NaN           NaN  \n",
       "22         NaN           NaN  \n",
       "23         NaN           NaN  "
      ]
     },
     "execution_count": 62,
     "metadata": {},
     "output_type": "execute_result"
    }
   ],
   "source": [
    "df2 = df.copy()\n",
    "df2"
   ]
  },
  {
   "cell_type": "code",
   "execution_count": 63,
   "id": "11a19f6e",
   "metadata": {},
   "outputs": [],
   "source": [
    "# Save DataFrame to a CSV file\n",
    "df2.to_csv('Table1puma.csv', index=False)"
   ]
  },
  {
   "cell_type": "code",
   "execution_count": null,
   "id": "eee2a7a0",
   "metadata": {},
   "outputs": [],
   "source": []
  },
  {
   "cell_type": "code",
   "execution_count": null,
   "id": "8bfdb9cf",
   "metadata": {},
   "outputs": [],
   "source": []
  }
 ],
 "metadata": {
  "kernelspec": {
   "display_name": "Python 3 (ipykernel)",
   "language": "python",
   "name": "python3"
  },
  "language_info": {
   "codemirror_mode": {
    "name": "ipython",
    "version": 3
   },
   "file_extension": ".py",
   "mimetype": "text/x-python",
   "name": "python",
   "nbconvert_exporter": "python",
   "pygments_lexer": "ipython3",
   "version": "3.11.3"
  }
 },
 "nbformat": 4,
 "nbformat_minor": 5
}
